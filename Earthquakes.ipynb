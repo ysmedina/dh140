{
 "cells": [
  {
   "cell_type": "markdown",
   "id": "9a2723f4-9e47-46fb-827e-d5b9c3ad441c",
   "metadata": {},
   "source": [
    "# Earthquakes"
   ]
  },
  {
   "cell_type": "markdown",
   "id": "0dae700d-eedc-415f-9790-73c44f2cfd6a",
   "metadata": {},
   "source": [
    "## Yamileth S. Medina"
   ]
  },
  {
   "cell_type": "markdown",
   "id": "002230b0-4e7b-4077-8359-0cf121d77d0e",
   "metadata": {},
   "source": [
    "### https://corgis-edu.github.io/corgis/python/earthquakes/\n",
    "\n",
    "#### This dataset documents Earthquake records from around the world from the United States Geolgical Survey from the past month; it shares important key factors such as distance, gap, magnitude, depth and significance in regards to earthquakes. A description of the earthquake's location and geological coordinates are also inclduded. "
   ]
  },
  {
   "cell_type": "code",
   "execution_count": 58,
   "id": "55ca13f2-7026-48e3-a481-f4f324cd4a0c",
   "metadata": {},
   "outputs": [],
   "source": [
    "import earthquakes\n",
    "earthquake = earthquakes.get_earthquake()"
   ]
  },
  {
   "cell_type": "code",
   "execution_count": 59,
   "id": "269d42a6-8383-478a-82e8-a242030b408f",
   "metadata": {},
   "outputs": [
    {
     "data": {
      "text/plain": [
       "list"
      ]
     },
     "execution_count": 59,
     "metadata": {},
     "output_type": "execute_result"
    }
   ],
   "source": [
    "type(earthquake)"
   ]
  },
  {
   "cell_type": "code",
   "execution_count": 60,
   "id": "799e8886-ac0d-43f8-a412-7ff1d192d112",
   "metadata": {},
   "outputs": [
    {
     "data": {
      "text/plain": [
       "8394"
      ]
     },
     "execution_count": 60,
     "metadata": {},
     "output_type": "execute_result"
    }
   ],
   "source": [
    "len(earthquake)"
   ]
  },
  {
   "cell_type": "code",
   "execution_count": 62,
   "id": "9b8416f0-94d0-48d5-8b32-5d851f90cfb9",
   "metadata": {},
   "outputs": [],
   "source": [
    "from pprint import pprint as prettyprint"
   ]
  },
  {
   "cell_type": "code",
   "execution_count": 63,
   "id": "e717bb90-f04b-4af6-ab92-3a4cf9b4e4ca",
   "metadata": {},
   "outputs": [
    {
     "name": "stdout",
     "output_type": "stream",
     "text": [
      "{'id': 'nc72666881',\n",
      " 'impact': {'gap': 122.0, 'magnitude': 1.43, 'significance': 31},\n",
      " 'location': {'depth': 15.12,\n",
      "              'distance': 0.1034,\n",
      "              'full': '13km E of Livermore, California',\n",
      "              'latitude': 37.6723333,\n",
      "              'longitude': -121.619,\n",
      "              'name': 'California'},\n",
      " 'time': {'day': 27,\n",
      "          'epoch': 1469593183550,\n",
      "          'full': '2016-07-27 00:19:43',\n",
      "          'hour': 0,\n",
      "          'minute': 19,\n",
      "          'month': 7,\n",
      "          'second': 43,\n",
      "          'year': 2016}}\n"
     ]
    }
   ],
   "source": [
    "prettyprint(earthquake[0])"
   ]
  },
  {
   "cell_type": "code",
   "execution_count": 65,
   "id": "9fabbe7b-a649-4d91-8179-27010054bec8",
   "metadata": {
    "tags": []
   },
   "outputs": [
    {
     "data": {
      "text/plain": [
       "dict_keys(['id', 'impact', 'location', 'time'])"
      ]
     },
     "execution_count": 65,
     "metadata": {},
     "output_type": "execute_result"
    }
   ],
   "source": [
    "earthquake[0].keys()"
   ]
  },
  {
   "cell_type": "code",
   "execution_count": 49,
   "id": "bb8ad9f5-b896-4b60-bdb7-1815d9d2f669",
   "metadata": {},
   "outputs": [
    {
     "name": "stdout",
     "output_type": "stream",
     "text": [
      "0: Earthquakes are natrual disasters!\n",
      "1: Earthquakes are natrual disasters!\n",
      "2: Earthquakes are natrual disasters!\n",
      "3: Earthquakes are natrual disasters!\n",
      "4: Earthquakes are natrual disasters!\n",
      "5: Earthquakes are natrual disasters!\n",
      "6: Earthquakes are natrual disasters!\n",
      "7: Earthquakes are natrual disasters!\n",
      "8: Earthquakes are natrual disasters!\n",
      "9: Earthquakes are natrual disasters!\n",
      "10: Earthquakes are natrual disasters!\n"
     ]
    }
   ],
   "source": [
    "#for loop\n",
    "for earthquake in range(11):\n",
    "    print(str(earthquake) + ': Earthquakes are natrual disasters!')"
   ]
  },
  {
   "cell_type": "code",
   "execution_count": 46,
   "id": "d28743a9-1a4a-42e8-ba4a-510a13771b1c",
   "metadata": {},
   "outputs": [
    {
     "name": "stdout",
     "output_type": "stream",
     "text": [
      "Chile had a heavy strength earthquake of: 5.6\n",
      "Japan had a heavy strength earthquake of: 5.3\n",
      "Tonga had a heavy strength earthquake of: 5.1\n",
      "Indonesia had a heavy strength earthquake of: 5.4\n",
      "Northern Mariana Islands had a heavy strength earthquake of: 7.7\n",
      "Vanuatu had a heavy strength earthquake of: 5.2\n",
      "Papua New Guinea had a heavy strength earthquake of: 5.7\n",
      "Greece had a heavy strength earthquake of: 5.2\n",
      "Indonesia had a heavy strength earthquake of: 5.2\n",
      "South Georgia and the South Sandwich Islands had a heavy strength earthquake of: 5.9\n",
      "Indonesia had a heavy strength earthquake of: 5.6\n",
      "South Indian Ocean had a heavy strength earthquake of: 6.1\n",
      "Burma had a heavy strength earthquake of: 5.2\n",
      "South Indian Ocean had a heavy strength earthquake of: 5.4\n",
      "South Sandwich Islands had a heavy strength earthquake of: 5.5\n",
      "South Georgia and the South Sandwich Islands had a heavy strength earthquake of: 5.1\n",
      "Papua New Guinea had a heavy strength earthquake of: 5.2\n",
      "Argentina had a heavy strength earthquake of: 6.2\n",
      "Japan had a heavy strength earthquake of: 6.3\n",
      "South Indian Ocean had a heavy strength earthquake of: 5.7\n",
      "Papua New Guinea had a heavy strength earthquake of: 5.2\n",
      "Northern Mid-Atlantic Ridge had a heavy strength earthquake of: 5.1\n",
      "Palau had a heavy strength earthquake of: 5.3\n",
      "Philippines had a heavy strength earthquake of: 5.4\n",
      "Indonesia had a heavy strength earthquake of: 5.4\n",
      "New Caledonia had a heavy strength earthquake of: 5.2\n",
      "Pacific-Antarctic Ridge had a heavy strength earthquake of: 5.1\n",
      "Northern Mariana Islands had a heavy strength earthquake of: 5.1\n",
      "Peru had a heavy strength earthquake of: 5.1\n",
      "California had a heavy strength earthquake of: 5.09\n",
      "Philippines had a heavy strength earthquake of: 5.4\n",
      "New Caledonia had a heavy strength earthquake of: 7.2\n",
      "New Caledonia had a heavy strength earthquake of: 5.4\n",
      "New Caledonia had a heavy strength earthquake of: 5.2\n",
      "South of the Fiji Islands had a heavy strength earthquake of: 6.2\n",
      "Indonesia had a heavy strength earthquake of: 5.1\n",
      "China had a heavy strength earthquake of: 5.2\n",
      "Indonesia had a heavy strength earthquake of: 5.4\n",
      "Indonesia had a heavy strength earthquake of: 5.3\n",
      "New Caledonia had a heavy strength earthquake of: 5.2\n",
      "China had a heavy strength earthquake of: 5.2\n",
      "Philippines had a heavy strength earthquake of: 5.1\n",
      "Japan had a heavy strength earthquake of: 5.1\n",
      "New Zealand had a heavy strength earthquake of: 5.4\n",
      "Russia had a heavy strength earthquake of: 5.9\n",
      "Alaska had a heavy strength earthquake of: 5.6\n",
      "Peru had a heavy strength earthquake of: 5.5\n",
      "Japan had a heavy strength earthquake of: 5.3\n",
      "Philippines had a heavy strength earthquake of: 5.4\n",
      "New Caledonia had a heavy strength earthquake of: 5.1\n",
      "Chile had a heavy strength earthquake of: 5.3\n",
      "Chile had a heavy strength earthquake of: 5.1\n",
      "Fiji region had a heavy strength earthquake of: 5.2\n",
      "Australia had a heavy strength earthquake of: 5.7\n",
      "Papua New Guinea had a heavy strength earthquake of: 5.2\n",
      "Indonesia had a heavy strength earthquake of: 5.4\n",
      "New Caledonia had a heavy strength earthquake of: 5.2\n",
      "Southern East Pacific Rise had a heavy strength earthquake of: 5.9\n",
      "Southern East Pacific Rise had a heavy strength earthquake of: 5.1\n",
      "South Georgia Island region had a heavy strength earthquake of: 7.4\n",
      "South Georgia Island region had a heavy strength earthquake of: 5.3\n",
      "South Georgia Island region had a heavy strength earthquake of: 5.2\n",
      "South Georgia and the South Sandwich Islands had a heavy strength earthquake of: 5.2\n",
      "South Georgia and the South Sandwich Islands had a heavy strength earthquake of: 5.2\n",
      "South Georgia and the South Sandwich Islands had a heavy strength earthquake of: 5.1\n",
      "Japan had a heavy strength earthquake of: 5.3\n",
      "South Georgia Island region had a heavy strength earthquake of: 5.1\n",
      "South Georgia Island region had a heavy strength earthquake of: 5.8\n",
      "South Georgia and the South Sandwich Islands had a heavy strength earthquake of: 5.6\n",
      "South Georgia Island region had a heavy strength earthquake of: 5.2\n",
      "South Georgia Island region had a heavy strength earthquake of: 5.2\n",
      "New Caledonia had a heavy strength earthquake of: 5.3\n",
      "Japan had a heavy strength earthquake of: 5.3\n",
      "Japan had a heavy strength earthquake of: 6.0\n",
      "South Georgia Island region had a heavy strength earthquake of: 5.4\n",
      "South Georgia Island region had a heavy strength earthquake of: 5.3\n",
      "Japan had a heavy strength earthquake of: 6.0\n",
      "Japan had a heavy strength earthquake of: 5.3\n",
      "Japan had a heavy strength earthquake of: 5.3\n",
      "South Georgia and the South Sandwich Islands had a heavy strength earthquake of: 5.2\n",
      "Vanuatu had a heavy strength earthquake of: 5.1\n",
      "South Georgia Island region had a heavy strength earthquake of: 6.4\n",
      "South Georgia Island region had a heavy strength earthquake of: 5.1\n",
      "Japan had a heavy strength earthquake of: 5.1\n",
      "Northern Mariana Islands had a heavy strength earthquake of: 5.1\n",
      "Japan had a heavy strength earthquake of: 5.1\n",
      "Russia had a heavy strength earthquake of: 5.1\n",
      "Japan had a heavy strength earthquake of: 5.3\n",
      "South Georgia Island region had a heavy strength earthquake of: 5.1\n",
      "Japan region had a heavy strength earthquake of: 5.6\n",
      "Burma had a heavy strength earthquake of: 5.3\n",
      "South Georgia and the South Sandwich Islands had a heavy strength earthquake of: 5.2\n",
      "Indonesia had a heavy strength earthquake of: 6.0\n",
      "Indonesia had a heavy strength earthquake of: 5.8\n",
      "Papua New Guinea had a heavy strength earthquake of: 5.2\n",
      "Italy had a heavy strength earthquake of: 6.2\n",
      "Italy had a heavy strength earthquake of: 5.5\n",
      "Burma had a heavy strength earthquake of: 6.8\n",
      "Indonesia had a heavy strength earthquake of: 5.8\n",
      "Japan region had a heavy strength earthquake of: 5.9\n",
      "The time spent shaking is 2724 minutes.\n"
     ]
    }
   ],
   "source": [
    "def quakes():\n",
    "    totalMinutesShook = 0 #initialize counter\n",
    "    for i in earthquake:  # earthquake object from module import\n",
    "         if (i['impact']['magnitude']) > 5.0:  # find earthquakes over magnitude 5.0\n",
    "             print(i['location']['name'] + ' had a heavy strength earthquake of: ' + str(i['impact']['magnitude']))\n",
    "             if (i['time']['minute']) > 0:  # count amount mins for each mag 5.0 or greater earthquake\n",
    "                    totalMinutesShook += (i['time']['minute'])                    \n",
    "    print('The time spent shaking is ' + str(totalMinutesShook) + ' minutes.')\n",
    "quakes()"
   ]
  },
  {
   "cell_type": "code",
   "execution_count": null,
   "id": "763cf4a0-4e85-40a9-b87e-601a53c2ef0e",
   "metadata": {},
   "outputs": [],
   "source": []
  }
 ],
 "metadata": {
  "kernelspec": {
   "display_name": "Python 3 (ipykernel)",
   "language": "python",
   "name": "python3"
  },
  "language_info": {
   "codemirror_mode": {
    "name": "ipython",
    "version": 3
   },
   "file_extension": ".py",
   "mimetype": "text/x-python",
   "name": "python",
   "nbconvert_exporter": "python",
   "pygments_lexer": "ipython3",
   "version": "3.9.6"
  }
 },
 "nbformat": 4,
 "nbformat_minor": 5
}
